{
 "cells": [
  {
   "cell_type": "markdown",
   "metadata": {},
   "source": [
    "# FASTQ to FASTA converter\n",
    "**Barbera Thomas 845538**\n",
    "\n",
    "## Richiesta\n",
    "Si richiede di scrivere un convertitore da FASTQ a FASTA che prenda in input un file di reads in formato FASTQ e produca in formato FASTA i soli reads che hanno le seguenti caratteristiche:\n",
    "* non sono più corti di una soglia L1 e non sono più lunghi di una soglia L2\n",
    "* la qualità minima delle basi supera una soglia Q1\n",
    "* contengono una sottoregione con qualità minima Q2 (maggiore di Q1) che è lunga almeno P% della lunghezza del read\n",
    "\n",
    "Viene richiesto l'uso di Biopython per leggere i reads dal file FASTQ in input e per stampare (in standard output o su file) i reads in formato FASTA.\n",
    "\n",
    "## Input\n",
    "Devono essere indicati il nome del file FASTQ di input e il nome del file FASTA di output.\n",
    "È inoltre necessario fornire le seguenti variabili:\n",
    "L1, L2 (> L1), Q1, Q2 (> Q1) e P.\n",
    "\n",
    "## Output\n",
    "Il programma scriverà le reads elaborate nel file di output indicato.\n",
    "Per ognuno dei reads in output, l'header FASTA deve contenere le seguenti informazioni:\n",
    "* identificatore\n",
    "* lunghezza\n",
    "* qualità minima delle basi\n",
    "* start ed end della sottoregione con qualità minima Q2\n",
    "* qualità media della sottoregione con qualità minima Q2\n",
    "\n",
    "---"
   ]
  },
  {
   "cell_type": "code",
   "execution_count": null,
   "metadata": {},
   "outputs": [],
   "source": [
    "# Input del programma:\n",
    "input_file_name = './input.fq'\n",
    "output_file_name = './output.fa'\n",
    "L1 = 10\n",
    "L2 = 40\n",
    "Q1 = 24\n",
    "Q2 = 60\n",
    "P = 0.32  # è una percentuale - deve essere compreso tra 0 e 1"
   ]
  },
  {
   "cell_type": "markdown",
   "metadata": {},
   "source": [
    "Per poter eseguire questo Notebook è necessario aver installato il pacchetto `biopython`."
   ]
  },
  {
   "cell_type": "code",
   "execution_count": null,
   "metadata": {},
   "outputs": [],
   "source": [
    "# Importazione dei package necessari:\n",
    "import Bio\n",
    "from Bio import SeqIO\n",
    "from Bio import SeqRecord\n",
    "from Bio.SeqRecord import SeqRecord\n",
    "import math"
   ]
  },
  {
   "cell_type": "markdown",
   "metadata": {},
   "source": [
    "La seguente lista conterrà i record che rispettano i vincoli. Verrà riempita durante l'analisi del file di input e servirà a scrivere l'output in formato FASTA."
   ]
  },
  {
   "cell_type": "code",
   "execution_count": null,
   "metadata": {},
   "outputs": [],
   "source": [
    "fasta_records = []"
   ]
  },
  {
   "cell_type": "markdown",
   "metadata": {},
   "source": [
    "### Definizione delle funzioni necessarie"
   ]
  },
  {
   "cell_type": "code",
   "execution_count": null,
   "metadata": {},
   "outputs": [],
   "source": [
    "def check_length(seq):\n",
    "    # Si verifica che la lunghezza del read sia compresa tra L1 e L2.\n",
    "    return len(seq)>=L1 and len(seq)<=L2"
   ]
  },
  {
   "cell_type": "code",
   "execution_count": null,
   "metadata": {},
   "outputs": [],
   "source": [
    "def check_quality(quality_list):\n",
    "    # Si verifica che la qualità minima delle basi superi la soglia Q1.\n",
    "    return min(quality_list) > Q1"
   ]
  },
  {
   "cell_type": "code",
   "execution_count": null,
   "metadata": {},
   "outputs": [],
   "source": [
    "def check_subregion(quality_list):\n",
    "    # Si controlla l'esistenza di una sottoregione con qualità minima Q2 lunga\n",
    "    # almeno P% della lunghezza del read. La funzione ritorna una tupla con la\n",
    "    # posizione di inizio e di fine della più lunga regione che rispetta\n",
    "    # tale vincolo (se esistente). Se non viene trovata nessuna regione è restituita\n",
    "    # la tupla (-1, -1).\n",
    "    bool_list = [q >= Q2 for q in quality_list]\n",
    "    # Ora si deve trovare la più lunga regione di 'True' consecutivi nella lista.\n",
    "    start = -1\n",
    "    end = -1\n",
    "    i = 0\n",
    "    j = 0\n",
    "    \n",
    "    while i < len(bool_list):\n",
    "        if not bool_list[i]:\n",
    "            i += 1\n",
    "            continue\n",
    "        j = i\n",
    "        while j < len(bool_list) and bool_list[j]:\n",
    "            j += 1\n",
    "        if j-i > end-start:\n",
    "            start = i\n",
    "            end = j\n",
    "        i = j\n",
    "    # Alla fine di questo ciclo, 'start' e 'end' conterranno la posizione di inizio\n",
    "    # (inclusa) e quella di fine (esclusa) della regione più lunga con qualità minima\n",
    "    # Q2. È solo necessario verificare che la sua lunghezza sia almeno P% della\n",
    "    # lunghezza del read.\n",
    "    required_length = math.ceil(len(quality_list) * P)\n",
    "    if end-start >= required_length:\n",
    "        # La sottoregione trovata è accettata.\n",
    "        # Vengono restituite le posizioni di inizio e fine incluse (zero based).\n",
    "        return (start, end-1)\n",
    "    else:\n",
    "        # Non è stata trovata nessuna regione valida.\n",
    "        return (-1, -1)"
   ]
  },
  {
   "cell_type": "code",
   "execution_count": null,
   "metadata": {},
   "outputs": [],
   "source": [
    "def list_avg(list):\n",
    "    return round(sum(list) / len(list), 2)"
   ]
  },
  {
   "cell_type": "markdown",
   "metadata": {},
   "source": [
    "La seguente funzione analizza un record FASTQ e controlla se vengono rispettati tutti i vincoli imposti. In tal caso, procede ad inserire il record nella lista `fasta_records`, in modo da poter poi essere scritto nel file di output."
   ]
  },
  {
   "cell_type": "code",
   "execution_count": null,
   "metadata": {},
   "outputs": [],
   "source": [
    "def check_record(record):\n",
    "    quality_seq = record.letter_annotations['phred_quality']\n",
    "    # Vengono ora verificate le diverse condizioni tramite le funzioni apposite.\n",
    "    valid_length = check_length(str(record.seq))\n",
    "    valid_quality = check_quality(quality_seq)\n",
    "    subregion = check_subregion(quality_seq)\n",
    "    \n",
    "    if valid_length and valid_quality and subregion[0]!=-1 and subregion[1]!=-1:\n",
    "        # Le condizioni sono rispettate, questo record verrà aggiunto al\n",
    "        # file FASTA di output. Effettuiamo quindi l'append alla lista.\n",
    "        record_to_add = SeqRecord(record.seq)\n",
    "        record_to_add.id = record.id\n",
    "        record_to_add.description = (\n",
    "            \"length: \" + str(len(record.seq)) + \", \" +\n",
    "            \"min_quality: \" + str(min(quality_seq)) + \", \" +\n",
    "            \"subregion: \" + str(subregion[0]+1) + \"-\" + str(subregion[1]+1) + \", \" +\n",
    "            \"subregion_avg_quality: \" + str(list_avg(quality_seq[subregion[0]:subregion[1]+1]))\n",
    "        )\n",
    "        \n",
    "        fasta_records.append(record_to_add)"
   ]
  },
  {
   "cell_type": "markdown",
   "metadata": {},
   "source": [
    "### Lettura dell'input, analisi e scrittura del file di output"
   ]
  },
  {
   "cell_type": "markdown",
   "metadata": {},
   "source": [
    "Prima di iniziare ad analizzare i record del file si verifica che le veriabili passate in input siano nel formato corretto e che rispettino i vincoli indicati nelle specifiche."
   ]
  },
  {
   "cell_type": "code",
   "execution_count": null,
   "metadata": {},
   "outputs": [],
   "source": [
    "if isinstance(L1, int) and isinstance(L2, int) and isinstance(Q1, (int, float)) and isinstance(Q2, (int, float)) and isinstance(P, (int, float)) and L2>L1 and Q2>Q1 and P>=0 and P<=1:\n",
    "    # I parametri in input sono corretti, è possibile parsare il file di input.\n",
    "    fastq_records = list(SeqIO.parse(input_file_name, 'fastq'))\n",
    "    for r in fastq_records:\n",
    "        check_record(r)\n",
    "    # Ora che è stata riempita la lista dei record è possibile scrivere il file.\n",
    "    SeqIO.write(fasta_records, output_file_name, 'fasta')\n",
    "    print(\"È stato creato il file '\" + output_file_name + \"'.\")\n",
    "else:\n",
    "    # Sono stati forniti parametri in un formato scorretto. La computazione termina.\n",
    "    print(\"Parametri in input non validi.\")"
   ]
  }
 ],
 "metadata": {
  "kernelspec": {
   "display_name": "Python 3",
   "language": "python",
   "name": "python3"
  },
  "language_info": {
   "codemirror_mode": {
    "name": "ipython",
    "version": 3
   },
   "file_extension": ".py",
   "mimetype": "text/x-python",
   "name": "python",
   "nbconvert_exporter": "python",
   "pygments_lexer": "ipython3",
   "version": "3.7.6"
  }
 },
 "nbformat": 4,
 "nbformat_minor": 4
}
